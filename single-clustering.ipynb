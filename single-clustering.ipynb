{
 "cells": [
  {
   "cell_type": "code",
   "execution_count": 151,
   "metadata": {},
   "outputs": [],
   "source": [
    "import numpy as np\n",
    "import matplotlib.pyplot as plt"
   ]
  },
  {
   "cell_type": "markdown",
   "metadata": {},
   "source": [
    "Идея реализации алгоритма состоит в следующем:\n",
    "1. Сортируем массив $\\mathcal{O}(n\\log{}n)$.\n",
    "2. Находим разницу между соседними элементами.  $\\mathcal{O}(n)$. \n",
    "По алгоритму single-link в большие кластеры объединяются наиболее близкие кластеры (при этом расстояние между кластерами - минимальное расстояние между объектами, входящими в них). Поэтому, во-первых, в кластер входят только соседние элементы (не может быть точки, лежащей между другими точками, входящими в один кластер), а во-вторых, на каждом шаге можно проверять только соседние точки, потому что $n-1$ расстояние между ними гарантировано меньше других расстояний\n",
    "3. Сортируем расстояния. Вводим дополнительный список, состоящий из пар соседних элемнтов, в порядке увеличения расстояния между ними $\\mathcal{O}(n\\log{}n)$.\n",
    "\n",
    "По сути имеем последовательность пар элементов, которые на каждом шаге должны сливаться в один кластер. С помощью Python' их структур данных реализуем cлияние кластеров.\n",
    "\n",
    "\n",
    "4. Обрабатываем пары элементов из дополнительно списка. Каждый элемент, который уже был обработан (т.е встречался в паре), является ключом в словаре. Ему соответсвует значение, являющееся множеством, содержащим все точки, которые принадлежат тому же кластеру. Так как всё в Python является ссылкой, то для разных ключей, значение соответсвующее им будет на самом деле единственны объектом, поэтому дополнительной памяти потребуется $\\mathcal{O}(n)$\n",
    "\n",
    "5. Если при обработке очередной пары оба элемента принадлежат неким кластерам, то эти кластеры сливаются. Это реализовано добавлением каждого элемента из меньшего кластера к большему, нужно это, чтобы умееьшить время: опарация set_A.add(elem) работает за $\\mathcal{O}(1)$, тогда как set_A.union(set_B) - $\\mathcal{O}(len(A) + len(B))$. Если использовать union в цикле, то в худшем случе это будет требовать $\\mathcal{O}(n^2)$, используя же add мы сокращаем время работы до  $\\mathcal{O}(n\\log{}n)$.\n",
    "\n",
    "6. Если один элемент в кластере, другой нет - добавляем второй в кластер к первому. Если оба не в кластере - создаём новый.\n",
    "\n",
    "7. Вводится пороговое значение M - если расстояние стало слишком большим, заканчиваем кластеризацию. В результате в словаре как ключи лежат все обработанные точки, их значение - кластеры, которым они принадлежат. Итерируясь по значениям словаря получим все кластеры.\n",
    "\n",
    "В пунктах 1-3 используются реализация сортирвоки из numpy. Во-первых, это очень быстро, так как библиотека написана на С, во-вторых, реализация merge-sort можно очень легко найти где угодно, поэтому здесь её непосредственный код не приводится."
   ]
  },
  {
   "cell_type": "markdown",
   "metadata": {},
   "source": [
    "Алгоритм single-link склонен выделять длинные тонкие кластеры - нити, это являестя его минусом в многомерных пространствах. На прямой же нас по сути и интересуют такие кластеры. Нас может не устроить работа алгоритма на данных, приведённых ниже (сначала точки расположены близко, начиная с 10 интервал между ними увеличивается на 2) - непонятно какой порог подобрать и что вообще здесь считать кластером. В работу алгоритма добавлен вывод на каждом шаге текущего словаря (ключ (точка) - элемента (кластер)) "
   ]
  },
  {
   "cell_type": "code",
   "execution_count": 156,
   "metadata": {},
   "outputs": [
    {
     "data": {
      "image/png": "[encoded data removed]",
      "text/plain": [
       "<Figure size 432x288 with 1 Axes>"
      ]
     },
     "metadata": {},
     "output_type": "display_data"
    }
   ],
   "source": [
    "data = np.array(list({2, 4, 6, 8, 10,  14, 20, 28, 38}))\n",
    "plt.scatter(data, np.zeros_like(data));"
   ]
  },
  {
   "cell_type": "code",
   "execution_count": 145,
   "metadata": {},
   "outputs": [],
   "source": [
    "#1\n",
    "indexes_sorted = np.argsort(data, kind='mergesort')\n",
    "data_sorted = data[indexes_sorted]\n",
    "\n",
    "#2\n",
    "data_sorted_diff = np.diff(data_sorted)\n",
    "pair_dist_args_sorted = np.argsort(data_sorted_diff, kind='mergesort')\n",
    "\n",
    "#3\n",
    "all_pairs = np.repeat(indexes_sorted, 2)[1:-1].reshape(data.shape[0]-1, 2)\n",
    "sorted_pairs = all_pairs[pair_dist_args_sorted]\n",
    "pair_dist_sorted = data_sorted_diff[pair_dist_args_sorted]\n"
   ]
  },
  {
   "cell_type": "code",
   "execution_count": 146,
   "metadata": {},
   "outputs": [
    {
     "name": "stdout",
     "output_type": "stream",
     "text": [
      "{0: {0, 1}, 1: {0, 1}}\n",
      "---------------------\n",
      "{0: {0, 1, 2}, 1: {0, 1, 2}, 2: {0, 1, 2}}\n",
      "---------------------\n",
      "{0: {0, 1, 2, 4}, 1: {0, 1, 2, 4}, 2: {0, 1, 2, 4}, 4: {0, 1, 2, 4}}\n",
      "---------------------\n",
      "{0: {0, 1, 2, 4, 5}, 1: {0, 1, 2, 4, 5}, 2: {0, 1, 2, 4, 5}, 4: {0, 1, 2, 4, 5}, 5: {0, 1, 2, 4, 5}}\n",
      "---------------------\n",
      "{0: {0, 1, 2, 4, 5, 6}, 1: {0, 1, 2, 4, 5, 6}, 2: {0, 1, 2, 4, 5, 6}, 4: {0, 1, 2, 4, 5, 6}, 5: {0, 1, 2, 4, 5, 6}, 6: {0, 1, 2, 4, 5, 6}}\n",
      "---------------------\n",
      "{0: {0, 1, 2, 4, 5, 6, 7}, 1: {0, 1, 2, 4, 5, 6, 7}, 2: {0, 1, 2, 4, 5, 6, 7}, 4: {0, 1, 2, 4, 5, 6, 7}, 5: {0, 1, 2, 4, 5, 6, 7}, 6: {0, 1, 2, 4, 5, 6, 7}, 7: {0, 1, 2, 4, 5, 6, 7}}\n",
      "---------------------\n",
      "{0: {0, 1, 2, 4, 5, 6, 7, 8}, 1: {0, 1, 2, 4, 5, 6, 7, 8}, 2: {0, 1, 2, 4, 5, 6, 7, 8}, 4: {0, 1, 2, 4, 5, 6, 7, 8}, 5: {0, 1, 2, 4, 5, 6, 7, 8}, 6: {0, 1, 2, 4, 5, 6, 7, 8}, 7: {0, 1, 2, 4, 5, 6, 7, 8}, 8: {0, 1, 2, 4, 5, 6, 7, 8}}\n",
      "---------------------\n",
      "{0: {0, 1, 2, 3, 4, 5, 6, 7, 8}, 1: {0, 1, 2, 3, 4, 5, 6, 7, 8}, 2: {0, 1, 2, 3, 4, 5, 6, 7, 8}, 4: {0, 1, 2, 3, 4, 5, 6, 7, 8}, 5: {0, 1, 2, 3, 4, 5, 6, 7, 8}, 6: {0, 1, 2, 3, 4, 5, 6, 7, 8}, 7: {0, 1, 2, 3, 4, 5, 6, 7, 8}, 8: {0, 1, 2, 3, 4, 5, 6, 7, 8}, 3: {0, 1, 2, 3, 4, 5, 6, 7, 8}}\n",
      "---------------------\n"
     ]
    }
   ],
   "source": [
    "def make_compile_cluster(cluster_smaller, cluster_bigger):\n",
    "    list_change = list()\n",
    "    for elem in cluster_smaller:\n",
    "        cluster_bigger.add(elem)\n",
    "        list_change.append(elem)\n",
    "    return list_change\n",
    "\n",
    "elems_in_clusters = dict()\n",
    "\n",
    "M = 15 #constant to stop union\n",
    "#4\n",
    "for i, pair in enumerate(sorted_pairs):\n",
    "    if pair_dist_sorted[i] > M:\n",
    "        break\n",
    "    \n",
    "    cl_1 = elems_in_clusters.get(pair[0])\n",
    "    cl_2 = elems_in_clusters.get(pair[1])\n",
    "\n",
    "    #5\n",
    "    if cl_1 and cl_2:\n",
    "        if len(cl_1) > len(cl_2):\n",
    "            to_change = make_compile_cluster(cl_2, cl_1)\n",
    "            cl_2 = cl_1\n",
    "        else:\n",
    "            to_change = make_compile_cluster(cl_1, cl_2)\n",
    "            cl_1 = cl_2\n",
    "        \n",
    "        for elem in to_change:\n",
    "            elems_in_clusters[elem] = cl_1\n",
    "    \n",
    "    #6\n",
    "    elif cl_1:\n",
    "        cl_1.add(pair[1])\n",
    "        elems_in_clusters[pair[1]] = cl_1\n",
    "    \n",
    "    elif cl_2:\n",
    "        cl_2.add(pair[0])\n",
    "        elems_in_clusters[pair[0]] = cl_2\n",
    "        \n",
    "    else:\n",
    "        new_cluster = set(pair)\n",
    "        elems_in_clusters[pair[0]] = new_cluster\n",
    "        elems_in_clusters[pair[1]] = new_cluster\n",
    "    \n",
    "    print(elems_in_clusters)\n",
    "    print('---------------------')\n"
   ]
  }
 ],
 "metadata": {
  "kernelspec": {
   "display_name": "Python 3",
   "language": "python",
   "name": "python3"
  },
  "language_info": {
   "codemirror_mode": {
    "name": "ipython",
    "version": 3
   },
   "file_extension": ".py",
   "mimetype": "text/x-python",
   "name": "python",
   "nbconvert_exporter": "python",
   "pygments_lexer": "ipython3",
   "version": "3.6.5"
  }
 },
 "nbformat": 4,
 "nbformat_minor": 2
}
